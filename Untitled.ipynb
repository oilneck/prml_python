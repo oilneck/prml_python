{
 "cells": [
  {
   "cell_type": "code",
   "execution_count": null,
   "metadata": {},
   "outputs": [],
   "source": []
  },
  {
   "cell_type": "markdown",
   "metadata": {},
   "source": [
    "  ##  Weight update procedure\n",
    "1. Forward-propagation : Perform forward propagation by using the following equation $[\\,\\varphi(\\cdot):\\text{activation function}\\,]$\n",
    "<br><br>\n",
    "<div style=\"white-space:nowrap;\">\n",
    "$$\n",
    "\\begin{equation*}\n",
    "    \\boldsymbol{a}^{(\\ell)}=\\boldsymbol{\\bf W}^{(\\ell)}\\boldsymbol{z}^{(\\ell-1)}\\qquad\\qquad\\boldsymbol{z}^{(\\ell)}\\equiv \\varphi\\left(\\boldsymbol{a}^{(\\ell)}\\right)=\\varphi\\left(\\boldsymbol{\\bf W}^{(\\ell)}\\boldsymbol{z}^{(\\ell-1)}\\right)\n",
    "  \\end{equation*}\n",
    "$$\n",
    "</div>\n",
    "<br>\n",
    "2. Back-propatagion : Compute the error $\\delta$ of output unit and all hidden units in the network\n",
    "<br><br>\n",
    "<div style=\"white-space:nowrap;\">\n",
    "$$\n",
    "\\begin{cases}    \\boldsymbol{\\delta}^{(\\ell)}=\\varphi'\\left(\\boldsymbol{a}^{(\\ell)}\\right)\\circ\\left[\\boldsymbol{\\bf W}^{(\\ell+1)}\\right]^{\\mathrm{T}}\\boldsymbol{\\delta}^{(\\ell+1)}\\qquad\\left[\\,1\\leqq \\ell\\leqq L-1\\,\\right]\\\\\n",
    "    \\boldsymbol{\\delta}^{(L)}=\\boldsymbol{y}-\\boldsymbol{t}\n",
    "  \\end{cases}\n",
    "$$\n",
    "</div>\n",
    "<br>\n",
    "3. Compute the gradient of cost function with respect to the weight matrix\n",
    "<br><br>\n",
    "<div style=\"white-space:nowrap;\">\n",
    "$$\n",
    "\\begin{align*}\n",
    "  {\\displaystyle\\frac{\\partial E_n}{\\partial\\boldsymbol{\\bf W}^{(\\ell)} }}=\\boldsymbol{\\delta}^{(\\ell)}\\otimes \\boldsymbol{z}^{(\\ell-1)}\n",
    "\\end{align*}\n",
    "$$\n",
    " </div>\n",
    "<br>\n",
    "4. Update the weights using the method \"Stochastic gradient descent (SGD)\"\n",
    "<br><br>\n",
    "<div style=\"white-space:nowrap;\">\n",
    "$$\n",
    "\\begin{align*}\n",
    "\\boldsymbol{\\bf W}^{(\\text{new})}=\\boldsymbol{\\bf W}^{(\\text{old})}-\\eta  \n",
    "\\left.{\\displaystyle \\frac{\\partial E_n}{\\partial\\boldsymbol{\\bf W}^{(\\ell)} }}\\right|_{\\boldsymbol{\\bf W}=\\boldsymbol{\\bf W}^{(\\text{old})}}\n",
    "\\end{align*}\n",
    "$$    \n",
    "</div>"
   ]
  },
  {
   "cell_type": "code",
   "execution_count": null,
   "metadata": {},
   "outputs": [],
   "source": []
  }
 ],
 "metadata": {
  "kernelspec": {
   "display_name": "Python 3",
   "language": "python",
   "name": "python3"
  },
  "language_info": {
   "codemirror_mode": {
    "name": "ipython",
    "version": 3
   },
   "file_extension": ".py",
   "mimetype": "text/x-python",
   "name": "python",
   "nbconvert_exporter": "python",
   "pygments_lexer": "ipython3",
   "version": "3.7.4"
  }
 },
 "nbformat": 4,
 "nbformat_minor": 2
}
