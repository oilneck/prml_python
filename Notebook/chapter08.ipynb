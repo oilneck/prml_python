{
 "cells": [
  {
   "cell_type": "markdown",
   "metadata": {},
   "source": [
    "# 8. Graphical Models"
   ]
  },
  {
   "cell_type": "markdown",
   "metadata": {},
   "source": [
    "## 8.3. Markov Random Fields"
   ]
  },
  {
   "cell_type": "code",
   "execution_count": 1,
   "metadata": {},
   "outputs": [],
   "source": [
    "def addNoise(image, num=50, binary=False):\n",
    "    img = np.copy(image).ravel()\n",
    "    idx = np.random.choice(img.size, size=num)\n",
    "    if binary:\n",
    "        img[idx] = np.array(~img[idx].astype(bool), dtype=int)\n",
    "    else:\n",
    "        img[idx] *= -1\n",
    "    return img.reshape(*image.shape)"
   ]
  },
  {
   "cell_type": "markdown",
   "metadata": {},
   "source": [
    "## 8.3.3 Illustration: Image de-noising (ICM algorithm)"
   ]
  },
  {
   "cell_type": "code",
   "execution_count": 2,
   "metadata": {
    "scrolled": true
   },
   "outputs": [
    {
     "data": {
      "image/png": "[encoded data removed]",
      "text/plain": [
       "<Figure size 432x288 with 3 Axes>"
      ]
     },
     "metadata": {
      "needs_background": "light"
     },
     "output_type": "display_data"
    }
   ],
   "source": [
    "import numpy as np\n",
    "import matplotlib.pyplot as plt\n",
    "from deepL_module.datasets.mnist import load_mnist\n",
    "import itertools\n",
    "\n",
    "\n",
    "def get_energy(loc): # calc. Hamiltonian\n",
    "    delta = list(itertools.product(range(-1, 2), range(-1, 2)))\n",
    "    Del = np.sum([X_out[tuple(idx)] for idx in np.array(loc) + delta])\n",
    "    E = h * X_out.sum() - eta * (X_in * X_out).sum() - beta * Del * X_out[loc]\n",
    "    return E\n",
    "\n",
    "\n",
    "def ICM(loc):\n",
    "    global X_out\n",
    "    E = []\n",
    "    X_out[loc] = 1\n",
    "    E.append(get_energy(loc))\n",
    "    X_out[loc] = -1\n",
    "    E.append(get_energy(loc))\n",
    "    X_out[loc] = 2 * np.argmax(E) - 1\n",
    "\n",
    "\n",
    "#1 Preparing image data\n",
    "(data, _), _ = load_mnist(normalize=True)\n",
    "origin = np.where(data[7] > 0.5, 1, -1).reshape(28,28)\n",
    "X_in = addNoise(origin)\n",
    "X_out = X_in.copy()\n",
    "\n",
    "\n",
    "#2 Setting Hamiltonian params\n",
    "h = 0.2\n",
    "beta = .5\n",
    "eta = 2\n",
    "\n",
    "\n",
    "''' #3 ICM algorithm '''\n",
    "for _ in range(10):\n",
    "    for loc in itertools.product(range(1, 27), range(1, 27)):\n",
    "        ICM(loc)\n",
    "\n",
    "\n",
    "#4 display images\n",
    "padding = np.pad(np.ones((26, 26)), (1, 1), 'constant')\n",
    "images = {'origin':origin, 'noised':X_in, 'denoised':X_out * padding}\n",
    "for n, (text, disp) in enumerate(images.items()):\n",
    "    ax = plt.subplot(1, 3, n+1)\n",
    "    ax.imshow(disp, cmap='gray')\n",
    "    ax.axis(\"off\")\n",
    "    plt.title(text, fontsize=20)\n",
    "plt.tight_layout()\n",
    "plt.show()"
   ]
  },
  {
   "cell_type": "markdown",
   "metadata": {},
   "source": [
    "## 8.4.4 The sum-product algorithm"
   ]
  },
  {
   "cell_type": "markdown",
   "metadata": {},
   "source": [
    "### Sum-product Algorithm (Belief Propagation)\n",
    "\n",
    "- Repeat following step\n",
    "<br>\n",
    "\n",
    " 1. A message from a variable node $x_m$ to a factor node $f_s$ is the product of the messages from all other neighboring factor nodes (except recipent; If a leaf node is variable node, then the message is $\\mu_{x\\to f}(x)=1$) \n",
    " <br><br>\n",
    " $$\n",
    " \\begin{align*}\n",
    "    \\mu_{x_m\\to f_s}(x_m)=\\prod_{\\ell \\in \\mathrm{ne}(x_m)\\backslash f_s}\\mu_{f_{\\ell}\\to x_m}(x_m)\n",
    " \\end{align*}\n",
    " $$\n",
    "<br><br>\n",
    " 2. A message from a factor node $f_s$ to a variable node $x$ is the product of the factor with messages from all other nodes, marginalized over all variables except the one associated with $x$\n",
    " <br><br>\n",
    " $$\n",
    " \\begin{align*}\n",
    "    \\mu_{f_s\\to x}(x)=\\sum_{x_1}\\cdots \\sum_{x_M}f_s(x,x_1,\\cdots,x_M)\\prod_{m\\in \\mathrm{ne}(f_s)\\backslash x}\\mu_{x_m\\to f_s}(x_m)\n",
    " \\end{align*}\n",
    " $$\n",
    " <br><br>\n",
    "where $\\mathrm{ne}(f_s)\\backslash x$ denotes the set of factor nodes that are neighbours of $f_s$ with node $x$ removed\n",
    " <br><br>\n",
    " \n",
    " \n",
    " - After convergence \n",
    " <br><br>\n",
    " The required marginal can be evaluated by following equation. \n",
    " <br><br>\n",
    " $$\n",
    " \\begin{align*}\n",
    " p(x)=\\prod_{s\\in \\mathrm{ne}(x)}\\mu_{f_s\\to x}(x)\n",
    " \\end{align*}\n",
    " $$"
   ]
  },
  {
   "cell_type": "code",
   "execution_count": 3,
   "metadata": {},
   "outputs": [
    {
     "data": {
      "image/png": "[encoded data removed]",
      "text/plain": [
       "<Figure size 432x288 with 3 Axes>"
      ]
     },
     "metadata": {
      "needs_background": "light"
     },
     "output_type": "display_data"
    }
   ],
   "source": [
    "import numpy as np\n",
    "import matplotlib.pyplot as plt\n",
    "from deepL_module.datasets.mnist import load_mnist\n",
    "from graphx import *\n",
    "import itertools\n",
    "\n",
    "\n",
    "def generateMarkovNetwork(image):\n",
    "\n",
    "    mrf = MarkovRandomField()\n",
    "    for nodeID, _ in enumerate(itertools.product(range(x_len), range(y_len))):\n",
    "            node = Node()\n",
    "            mrf.add_node(nodeID, node)\n",
    "\n",
    "    for n, (x,y) in enumerate(itertools.product(range(x_len), range(y_len))):\n",
    "        node = mrf.get_node(n)\n",
    "        for dx, dy in itertools.permutations(range(-1, 2), 2):\n",
    "            try:\n",
    "                neighbor = mrf.get_node(y_len * (x + dx) + y + dy)\n",
    "                node.add_neighbor(neighbor)\n",
    "            except Exception:\n",
    "                pass\n",
    "\n",
    "    return mrf\n",
    "\n",
    "\n",
    "def removalNoise(noised_image):\n",
    "    \n",
    "    output = np.zeros_like(noised_image)\n",
    "    \n",
    "    for n, loc in enumerate(itertools.product(range(x_len), range(y_len))):\n",
    "        node = network.get_node(n)\n",
    "        output[loc] = np.argmax(node.prob)\n",
    "\n",
    "    return output\n",
    "\n",
    "\n",
    "#1 Preparing image data\n",
    "(data, _), _ = load_mnist(normalize=True)\n",
    "origin_image = (data[7] > .5).astype(int).reshape(28, 28)\n",
    "noisy_image = addNoise(origin_image, binary=True)\n",
    "x_len, y_len = origin_image.shape\n",
    "\n",
    "\n",
    "#2 constructing Markov Random field\n",
    "network = generateMarkovNetwork(origin_image)\n",
    "\n",
    "\n",
    "#3 setting obeserved value\n",
    "for n, loc in enumerate(itertools.product(range(x_len), range(y_len))):\n",
    "    node = network.get_node(n)\n",
    "    node.likelihood(noisy_image[loc])\n",
    "\n",
    "\n",
    "''' #4 sum-product algorithm '''\n",
    "network.message_passing(n_iter=10)\n",
    "\n",
    "\n",
    "#5 image de-noising\n",
    "output = removalNoise(noisy_image)\n",
    "\n",
    "#6 display images\n",
    "images = {'origin':origin_image, 'noised':noisy_image, 'denoised':output}\n",
    "for n, (text, disp) in enumerate(images.items()):\n",
    "    ax = plt.subplot(1, 3, n+1)\n",
    "    ax.imshow(disp, cmap='gray')\n",
    "    ax.axis(\"off\")\n",
    "    plt.title(text, fontsize=20)\n",
    "plt.tight_layout()\n",
    "plt.show()"
   ]
  },
  {
   "cell_type": "code",
   "execution_count": null,
   "metadata": {},
   "outputs": [],
   "source": []
  }
 ],
 "metadata": {
  "kernelspec": {
   "display_name": "Python 3",
   "language": "python",
   "name": "python3"
  },
  "language_info": {
   "codemirror_mode": {
    "name": "ipython",
    "version": 3
   },
   "file_extension": ".py",
   "mimetype": "text/x-python",
   "name": "python",
   "nbconvert_exporter": "python",
   "pygments_lexer": "ipython3",
   "version": "3.7.4"
  }
 },
 "nbformat": 4,
 "nbformat_minor": 2
}
