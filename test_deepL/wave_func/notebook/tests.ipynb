{
 "cells": [
  {
   "cell_type": "markdown",
   "metadata": {},
   "source": [
    "# 2 NeuralNetworkによる量子力学的調和振動子問題の解 (実装編)\n",
    "## 2-1 Simple model"
   ]
  },
  {
   "cell_type": "markdown",
   "metadata": {},
   "source": [
    "### 2-1-1 Configuration\n",
    "\n",
    "<br>\n",
    "\\begin{align*}\n",
    "a_{\\text{out}}(x)=\\hat{W}^{(2)}f\\left(\n",
    "\\hat{W}^{(1)}\\vec{x}+\\vec{b}\n",
    "\\right)=\n",
    "w_3\\cdot f(w_1x+w_5)+w_4\\cdot f(w_2x+w_6)\n",
    "\\qquad \\qquad \\phi(\\boldsymbol{w},x)=\\exp\\left\\{a_{\\text{out}}(x)\\right\\}\n",
    "\\end{align*}\n",
    "\n",
    "<br><br>\n",
    "\\begin{align*}\n",
    "  \\hat{W}^{(1)} = \\left(\n",
    "    \\begin{array}{c}\n",
    "        w_1 \\\\\n",
    "        w_2\n",
    "    \\end{array}\n",
    "  \\right)\\qquad\n",
    "    \\hat{W}^{(2)} = \\left(\n",
    "        w_3,\\ w_4\n",
    "  \\right)\\qquad\n",
    "   \\vec{b} = \\left(\n",
    "    \\begin{array}{c}\n",
    "        w_5 \\\\\n",
    "        w_6\n",
    "    \\end{array}\n",
    "  \\right)\\qquad\n",
    "  \\boldsymbol{w}=(w_1,w_2,\\cdots,w_6)\n",
    " \\end{align*}"
   ]
  },
  {
   "cell_type": "markdown",
   "metadata": {},
   "source": [
    "### 2-1-2 work flow\n",
    ">1. $\\boldsymbol{w}$を初期化\n",
    "<br>\n",
    "2. $\\phi(\\boldsymbol{w},x)$を計算\n",
    "<br>\n",
    "3. エネルギー期待値の算出\n",
    "<br><br>\n",
    "\\begin{align*}\n",
    "\\langle \\hat{H} \\rangle = \\frac{1}{Z}\\int \\phi(\\boldsymbol{w},x)\\hat{H}\\phi(\\boldsymbol{w},x)\\, dx\\qquad Z=\\int |\\phi(\\boldsymbol{w},x)|^2\\,dx\\qquad \\hat{H}=-\\frac{\\hbar^2}{2m}\\frac{d^2}{dx^2}+\\frac{1}{2}m\\tilde{\\omega}^2x^2\n",
    "\\end{align*}\n",
    "<br>\n",
    "4. パラメータ更新用勾配の算出\n",
    "<br><br>\n",
    "\\begin{align*}\n",
    "\\frac{\\partial \\langle \\hat{H} \\rangle}{\\partial w_k}=2\\langle \\theta_k \\hat{H}\\rangle - 2\\langle \\theta_k \\rangle \\langle \\hat{H}\\rangle\\qquad\\qquad \\theta_k = \\frac{\\partial a_{\\text{out}}}{\\partial w_k}\n",
    "\\end{align*}\n",
    "<br>\n",
    "5. SGD(確率勾配降下法)によるパラメータ最適化\n",
    "<br><br>\n",
    "\\begin{align*}\n",
    "\\boldsymbol{w}^{\\text{new}}=\\boldsymbol{w}^{(\\text{old})}-\\alpha \\frac{\\partial \\langle \\hat{H} \\rangle}{\\partial \\boldsymbol{w}}\n",
    "\\end{align*}\n",
    "<br><br>\n",
    "以上2~3のステップを繰り返す"
   ]
  },
  {
   "cell_type": "markdown",
   "metadata": {},
   "source": [
    "## 2-1-3 class\n",
    "\n",
    "- `__init__`: パラメータ初期化\n",
    "\n",
    "\n",
    "- `get_params`: 各層の行列をベクトル化$\\hat{W}^{(1)},\\,\\hat{W}^{(2)}\\rightarrow \\boldsymbol{w}$\n",
    "\n",
    "\n",
    "- `set_params`: ベクトル化されたパラメータを行列形式に戻す$\\boldsymbol{w}\\rightarrow\\hat{W}^{(1)},\\,\\hat{W}^{(2)}$\n",
    "\n",
    "\n",
    "- `act_func`: 活性化関数$f(x)$の定義\n",
    "\n",
    "\n",
    "- `phi`: $\\phi(\\boldsymbol{w},x)$の計算\n",
    "\n",
    "\n",
    "- `get_norm`: $Z=\\int \\phi^2(x)\\ dx$の計算\n",
    "\n",
    "\n",
    "- `get_average`: 期待値算出 $\\langle\\cdots\\rangle=\\frac{1}{Z}\\int \\phi(x)[\\cdots]\\phi(x)\\,dx$\n",
    "\n",
    "\n",
    "- `_hamiltonian_operate`: $\\langle \\hat{H}\\times(\\cdots)\\rangle$の演算\n",
    "\n",
    "\n",
    "- `_calc_grad`: 勾配計算\n",
    "\n",
    "\n",
    "- `update`:SGDによるパラメータ更新"
   ]
  },
  {
   "cell_type": "markdown",
   "metadata": {},
   "source": [
    "## 2-2 Demonstration\n",
    "### 2-2-1 python coding\n",
    "- for文\n",
    "\n",
    "```for (変数) in [イテレータ]: \n",
    "    (繰り返す処理)\n",
    "```"
   ]
  },
  {
   "cell_type": "code",
   "execution_count": 1,
   "metadata": {},
   "outputs": [
    {
     "name": "stdout",
     "output_type": "stream",
     "text": [
      "3\n",
      "9\n",
      "-1\n"
     ]
    }
   ],
   "source": [
    "for x in [3,9,-1]:\n",
    "    print(x)"
   ]
  },
  {
   "cell_type": "code",
   "execution_count": 2,
   "metadata": {},
   "outputs": [
    {
     "name": "stdout",
     "output_type": "stream",
     "text": [
      "0\n",
      "1\n",
      "2\n",
      "3\n",
      "4\n"
     ]
    }
   ],
   "source": [
    "for x in range(5):\n",
    "    print(x)"
   ]
  },
  {
   "cell_type": "markdown",
   "metadata": {},
   "source": [
    "- if文\n",
    "\n",
    "`if (条件式): 処理`"
   ]
  },
  {
   "cell_type": "code",
   "execution_count": 3,
   "metadata": {},
   "outputs": [],
   "source": [
    "def is_even(x):\n",
    "    if x % 2 == 0:\n",
    "        print(x)"
   ]
  },
  {
   "cell_type": "code",
   "execution_count": 4,
   "metadata": {},
   "outputs": [
    {
     "name": "stdout",
     "output_type": "stream",
     "text": [
      "2\n"
     ]
    }
   ],
   "source": [
    "is_even(2)"
   ]
  },
  {
   "cell_type": "code",
   "execution_count": 5,
   "metadata": {},
   "outputs": [],
   "source": [
    "is_even(5)"
   ]
  },
  {
   "cell_type": "markdown",
   "metadata": {},
   "source": [
    "- lambda式"
   ]
  },
  {
   "cell_type": "code",
   "execution_count": 6,
   "metadata": {},
   "outputs": [],
   "source": [
    "f = lambda x: x ** 2"
   ]
  },
  {
   "cell_type": "code",
   "execution_count": 7,
   "metadata": {},
   "outputs": [
    {
     "data": {
      "text/plain": [
       "9"
      ]
     },
     "execution_count": 7,
     "metadata": {},
     "output_type": "execute_result"
    }
   ],
   "source": [
    "f(3)"
   ]
  },
  {
   "cell_type": "markdown",
   "metadata": {},
   "source": [
    "- integrate "
   ]
  },
  {
   "cell_type": "code",
   "execution_count": 8,
   "metadata": {},
   "outputs": [
    {
     "data": {
      "text/plain": [
       "(0.33333333333333337, 3.700743415417189e-15)"
      ]
     },
     "execution_count": 8,
     "metadata": {},
     "output_type": "execute_result"
    }
   ],
   "source": [
    "from scipy import integrate\n",
    "integrate.quad(f, 0, 1)"
   ]
  },
  {
   "cell_type": "markdown",
   "metadata": {},
   "source": [
    "- ravel $\\to$1次元化"
   ]
  },
  {
   "cell_type": "code",
   "execution_count": 9,
   "metadata": {},
   "outputs": [],
   "source": [
    "import numpy as np\n",
    "A = np.arange(9).reshape(3,3)"
   ]
  },
  {
   "cell_type": "code",
   "execution_count": 10,
   "metadata": {},
   "outputs": [
    {
     "data": {
      "text/plain": [
       "array([[0, 1, 2],\n",
       "       [3, 4, 5],\n",
       "       [6, 7, 8]])"
      ]
     },
     "execution_count": 10,
     "metadata": {},
     "output_type": "execute_result"
    }
   ],
   "source": [
    "A"
   ]
  },
  {
   "cell_type": "code",
   "execution_count": 11,
   "metadata": {},
   "outputs": [
    {
     "data": {
      "text/plain": [
       "array([0, 1, 2, 3, 4, 5, 6, 7, 8])"
      ]
     },
     "execution_count": 11,
     "metadata": {},
     "output_type": "execute_result"
    }
   ],
   "source": [
    "A.ravel()"
   ]
  },
  {
   "cell_type": "markdown",
   "metadata": {},
   "source": [
    "### 2-2-2 implementation"
   ]
  },
  {
   "cell_type": "code",
   "execution_count": 12,
   "metadata": {},
   "outputs": [],
   "source": [
    "import sys\n",
    "sys.path.append('..') # この文はパスの設定なので気にしない\n",
    "from classes.wave_function_class import WaveFunction"
   ]
  },
  {
   "cell_type": "markdown",
   "metadata": {},
   "source": [
    "- インスタンス生成"
   ]
  },
  {
   "cell_type": "code",
   "execution_count": 13,
   "metadata": {},
   "outputs": [
    {
     "data": {
      "text/plain": [
       "array([[0.8457843 ],\n",
       "       [0.70835471]])"
      ]
     },
     "execution_count": 13,
     "metadata": {},
     "output_type": "execute_result"
    }
   ],
   "source": [
    "model = WaveFunction()\n",
    "model.W1 #パラメータ確認"
   ]
  },
  {
   "cell_type": "code",
   "execution_count": 14,
   "metadata": {},
   "outputs": [
    {
     "data": {
      "text/plain": [
       "array([[0.5520996 , 0.27100626]])"
      ]
     },
     "execution_count": 14,
     "metadata": {},
     "output_type": "execute_result"
    }
   ],
   "source": [
    "model.W2"
   ]
  },
  {
   "cell_type": "code",
   "execution_count": 15,
   "metadata": {},
   "outputs": [
    {
     "data": {
      "text/plain": [
       "array([0.8457843 , 0.70835471, 0.5520996 , 0.27100626, 1.        ,\n",
       "       1.        ])"
      ]
     },
     "execution_count": 15,
     "metadata": {},
     "output_type": "execute_result"
    }
   ],
   "source": [
    "model.get_params()#1次元化されたパラメータ取得"
   ]
  },
  {
   "cell_type": "markdown",
   "metadata": {},
   "source": [
    "- パラメータセッティング"
   ]
  },
  {
   "cell_type": "code",
   "execution_count": 16,
   "metadata": {},
   "outputs": [],
   "source": [
    "model.set_params([1,2,3,4,5,6])"
   ]
  },
  {
   "cell_type": "code",
   "execution_count": 17,
   "metadata": {},
   "outputs": [
    {
     "data": {
      "text/plain": [
       "array([[1],\n",
       "       [2]])"
      ]
     },
     "execution_count": 17,
     "metadata": {},
     "output_type": "execute_result"
    }
   ],
   "source": [
    "model.W1"
   ]
  },
  {
   "cell_type": "code",
   "execution_count": 18,
   "metadata": {},
   "outputs": [
    {
     "data": {
      "text/plain": [
       "array([[3, 4]])"
      ]
     },
     "execution_count": 18,
     "metadata": {},
     "output_type": "execute_result"
    }
   ],
   "source": [
    "model.W2"
   ]
  },
  {
   "cell_type": "markdown",
   "metadata": {},
   "source": [
    "- 活性化関数の確認"
   ]
  },
  {
   "cell_type": "code",
   "execution_count": 19,
   "metadata": {},
   "outputs": [],
   "source": [
    "import matplotlib.pyplot as plt\n",
    "%matplotlib inline"
   ]
  },
  {
   "cell_type": "code",
   "execution_count": 20,
   "metadata": {},
   "outputs": [],
   "source": [
    "x = np.linspace(-5, 5, 100)# -5から5まで100分割"
   ]
  },
  {
   "cell_type": "code",
   "execution_count": 21,
   "metadata": {},
   "outputs": [
    {
     "data": {
      "text/plain": [
       "[<matplotlib.lines.Line2D at 0x25fca995848>]"
      ]
     },
     "execution_count": 21,
     "metadata": {},
     "output_type": "execute_result"
    },
    {
     "data": {
      "image/png": "[encoded data removed]",
      "text/plain": [
       "<Figure size 432x288 with 1 Axes>"
      ]
     },
     "metadata": {
      "needs_background": "light"
     },
     "output_type": "display_data"
    }
   ],
   "source": [
    "plt.plot(x, model.act_func(x))"
   ]
  },
  {
   "cell_type": "code",
   "execution_count": 22,
   "metadata": {},
   "outputs": [
    {
     "data": {
      "text/plain": [
       "[<matplotlib.lines.Line2D at 0x25fcaa61288>]"
      ]
     },
     "execution_count": 22,
     "metadata": {},
     "output_type": "execute_result"
    },
    {
     "data": {
      "image/png": "[encoded data removed]",
      "text/plain": [
       "<Figure size 432x288 with 1 Axes>"
      ]
     },
     "metadata": {
      "needs_background": "light"
     },
     "output_type": "display_data"
    }
   ],
   "source": [
    "plt.plot(x, model.act_func(x, deriv=True))"
   ]
  },
  {
   "cell_type": "code",
   "execution_count": 23,
   "metadata": {},
   "outputs": [
    {
     "data": {
      "text/plain": [
       "[<matplotlib.lines.Line2D at 0x25fcaac4848>]"
      ]
     },
     "execution_count": 23,
     "metadata": {},
     "output_type": "execute_result"
    },
    {
     "data": {
      "image/png": "[encoded data removed]",
      "text/plain": [
       "<Figure size 432x288 with 1 Axes>"
      ]
     },
     "metadata": {
      "needs_background": "light"
     },
     "output_type": "display_data"
    }
   ],
   "source": [
    "plt.plot(x,model.phi(x))"
   ]
  },
  {
   "cell_type": "markdown",
   "metadata": {},
   "source": [
    "- 規格化因子$Z$の計算確認"
   ]
  },
  {
   "cell_type": "code",
   "execution_count": 24,
   "metadata": {},
   "outputs": [
    {
     "data": {
      "text/plain": [
       "8603605.75671696"
      ]
     },
     "execution_count": 24,
     "metadata": {},
     "output_type": "execute_result"
    }
   ],
   "source": [
    "model.get_norm()"
   ]
  },
  {
   "cell_type": "markdown",
   "metadata": {},
   "source": [
    "- 期待値計算部のテスト"
   ]
  },
  {
   "cell_type": "code",
   "execution_count": 25,
   "metadata": {},
   "outputs": [
    {
     "data": {
      "text/plain": [
       "1.4139795585764967"
      ]
     },
     "execution_count": 25,
     "metadata": {},
     "output_type": "execute_result"
    }
   ],
   "source": [
    "model.get_average(lambda x:x)"
   ]
  },
  {
   "cell_type": "markdown",
   "metadata": {},
   "source": [
    "- ハミルトニアン期待値"
   ]
  },
  {
   "cell_type": "code",
   "execution_count": 26,
   "metadata": {},
   "outputs": [
    {
     "data": {
      "text/plain": [
       "3.2228960086908542"
      ]
     },
     "execution_count": 26,
     "metadata": {},
     "output_type": "execute_result"
    }
   ],
   "source": [
    "model._hamiltonian_operate(lambda x:1)"
   ]
  },
  {
   "cell_type": "markdown",
   "metadata": {},
   "source": [
    "- 勾配計算チェック"
   ]
  },
  {
   "cell_type": "code",
   "execution_count": 27,
   "metadata": {},
   "outputs": [
    {
     "data": {
      "text/plain": [
       "array([ 0.01127831,  0.13349091,  0.00123349,  0.00898712, -0.00737709,\n",
       "       -0.05492862])"
      ]
     },
     "execution_count": 27,
     "metadata": {},
     "output_type": "execute_result"
    }
   ],
   "source": [
    "model._calc_grad()"
   ]
  }
 ],
 "metadata": {
  "kernelspec": {
   "display_name": "Python 3",
   "language": "python",
   "name": "python3"
  },
  "language_info": {
   "codemirror_mode": {
    "name": "ipython",
    "version": 3
   },
   "file_extension": ".py",
   "mimetype": "text/x-python",
   "name": "python",
   "nbconvert_exporter": "python",
   "pygments_lexer": "ipython3",
   "version": "3.7.4"
  }
 },
 "nbformat": 4,
 "nbformat_minor": 2
}
