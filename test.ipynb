{
 "cells": [
  {
   "cell_type": "markdown",
   "metadata": {},
   "source": [
    "> ## <font color=\"Red\"> Weight update procedure</font>\n",
    "1. Forward-propagation : Perform forward propagation using the following equation\n",
    "<br><br>\n",
    "$$\n",
    "\\begin{equation}\n",
    "    \\boldsymbol{a}^{(\\ell)}=\\boldsymbol{\\hat{\\bf W}}^{(\\ell)}\\boldsymbol{z}^{(\\ell-1)}\\qquad\\qquad\\boldsymbol{z}^{(\\ell)}\\equiv \\varphi\\left(\\boldsymbol{a}^{(\\ell)}\\right)=\\varphi\\left(\\boldsymbol{\\hat{\\bf W}}^{(\\ell)}\\boldsymbol{z}^{(\\ell-1)}\\right)\n",
    "  \\end{equation}\n",
    "$$\n",
    "<br>\n",
    "2. Back-propatagion : Compute the error $\\delta$ of output unit and all hidden units in the network\n",
    "<br><br>\n",
    "$$\n",
    "\\begin{cases}    \\boldsymbol{\\delta}^{(\\ell)}=\\varphi'\\left(\\boldsymbol{a}^{(\\ell)}\\right)\\circ\\left[\\boldsymbol{\\hat{\\bf W}}^{(\\ell+1)}\\right]^{\\mathrm{T}}\\boldsymbol{\\delta}^{(\\ell+1)}\\qquad\\left[\\,1\\leqq \\ell\\leqq L-1\\,\\right]\\\\\n",
    "    \\boldsymbol{\\delta}^{(L)}=\\boldsymbol{y}-\\boldsymbol{t}\n",
    "  \\end{cases}\n",
    "$$\n",
    "<br>\n",
    "3. Compute the gradient of cost function with respect to the weight matrix\n",
    "<br><br>\n",
    "$$\n",
    "\\begin{align}\n",
    "  \\frac{\\partial E_n}{\\partial\\boldsymbol{\\bf W}^{(\\ell)} }=\\boldsymbol{\\delta}^{(\\ell)}\\otimes \\boldsymbol{z}^{(\\ell-1)}\n",
    "\\end{align}\n",
    "$$\n",
    "<br>\n",
    "4. Update the weights using the method \"Stochastic gradient descent (SGD)\"\n",
    "<br><br>\n",
    "$$\n",
    "\\boldsymbol{\\bf W}^{(\\text{new})}=\\boldsymbol{\\bf W}^{(\\text{old})}-\\eta  \\left.\\frac{\\partial E_n}{\\partial\\boldsymbol{\\bf W}^{(\\ell)} }\\right|_{\\boldsymbol{\\bf W}=\\boldsymbol{\\bf W}^{(\\text{old})}}\n",
    "$$"
   ]
  },
  {
   "cell_type": "code",
   "execution_count": null,
   "metadata": {},
   "outputs": [],
   "source": []
  }
 ],
 "metadata": {
  "kernelspec": {
   "display_name": "Python 3",
   "language": "python",
   "name": "python3"
  },
  "language_info": {
   "codemirror_mode": {
    "name": "ipython",
    "version": 3
   },
   "file_extension": ".py",
   "mimetype": "text/x-python",
   "name": "python",
   "nbconvert_exporter": "python",
   "pygments_lexer": "ipython3",
   "version": "3.7.4"
  }
 },
 "nbformat": 4,
 "nbformat_minor": 2
}
